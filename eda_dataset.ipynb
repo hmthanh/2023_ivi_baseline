{
 "cells": [
  {
   "cell_type": "code",
   "execution_count": 3,
   "outputs": [],
   "source": [
    "# EDA GENEA Dataset"
   ],
   "metadata": {
    "collapsed": false,
    "ExecuteTime": {
     "end_time": "2023-06-08T14:17:57.675219521Z",
     "start_time": "2023-06-08T14:17:57.624643441Z"
    }
   }
  },
  {
   "cell_type": "code",
   "execution_count": 4,
   "metadata": {
    "collapsed": true,
    "ExecuteTime": {
     "end_time": "2023-06-08T14:17:58.833518501Z",
     "start_time": "2023-06-08T14:17:58.829116293Z"
    }
   },
   "outputs": [],
   "source": [
    "import csv\n",
    "import pandas\n"
   ]
  },
  {
   "cell_type": "code",
   "execution_count": 5,
   "outputs": [],
   "source": [
    "def load_metadata(metadata, participant):\n",
    "    assert participant in (\"main-agent\", \"interloctr\"), \"`participant` must be either 'main-agent' or 'interloctr'\"\n",
    "\n",
    "    metadict_byfname = {}\n",
    "    metadict_byindex = {}\n",
    "    speaker_ids = []\n",
    "    finger_info = []\n",
    "    with open(metadata, \"r\") as f:\n",
    "        # NOTE: The first line contains the csv header so we skip it\n",
    "        for i, line in enumerate(f.readlines()[1:]):\n",
    "            (\n",
    "                fname,\n",
    "                main_speaker_id,\n",
    "                main_has_finger,\n",
    "                ilocutor_speaker_id,\n",
    "                ilocutor_has_finger,\n",
    "            ) = line.strip().split(\",\")\n",
    "\n",
    "            if participant == \"main-agent\":\n",
    "                has_finger = (main_has_finger == \"finger_incl\")\n",
    "                speaker_id = int(main_speaker_id) - 1\n",
    "            else:\n",
    "                has_finger = (ilocutor_has_finger == \"finger_incl\")\n",
    "                speaker_id = int(ilocutor_speaker_id) - 1\n",
    "\n",
    "            finger_info.append(has_finger)\n",
    "            speaker_ids.append(speaker_id)\n",
    "\n",
    "            metadict_byindex[i] = has_finger, speaker_id\n",
    "            metadict_byfname[fname + f\"_{participant}\"] = has_finger, speaker_id\n",
    "\n",
    "    speaker_ids = np.array(speaker_ids)\n",
    "    finger_info = np.array(finger_info)\n",
    "    num_speakers = np.unique(speaker_ids).shape[0]\n",
    "    # assert num_speakers == spks.max(), \"Error speaker info!\"\n",
    "    # print(\"Number of speakers: \", num_speakers)\n",
    "    # print(\"Has Finger Ratio:\", np.mean(finger_info))\n",
    "\n",
    "    return num_speakers, metadict_byfname, metadict_byindex"
   ],
   "metadata": {
    "collapsed": false,
    "ExecuteTime": {
     "end_time": "2023-06-08T14:18:00.129337306Z",
     "start_time": "2023-06-08T14:18:00.121561535Z"
    }
   }
  },
  {
   "cell_type": "markdown",
   "source": [
    "## Training dataset"
   ],
   "metadata": {
    "collapsed": false
   }
  },
  {
   "cell_type": "code",
   "execution_count": 8,
   "outputs": [],
   "source": [
    "import os\n",
    "import numpy as np"
   ],
   "metadata": {
    "collapsed": false,
    "ExecuteTime": {
     "end_time": "2023-06-08T14:25:17.819950069Z",
     "start_time": "2023-06-08T14:25:17.814663459Z"
    }
   }
  },
  {
   "cell_type": "code",
   "execution_count": 19,
   "outputs": [
    {
     "ename": "FileNotFoundError",
     "evalue": "[Errno 2] No such file or directory: \"./input/genea2023_dataset//['trn', 'tst', 'val']/metadata.csv\"",
     "output_type": "error",
     "traceback": [
      "\u001B[0;31m---------------------------------------------------------------------------\u001B[0m",
      "\u001B[0;31mFileNotFoundError\u001B[0m                         Traceback (most recent call last)",
      "Cell \u001B[0;32mIn[19], line 10\u001B[0m\n\u001B[1;32m      7\u001B[0m tsvdir \u001B[38;5;241m=\u001B[39m \u001B[38;5;124mf\u001B[39m\u001B[38;5;124m\"\u001B[39m\u001B[38;5;132;01m{\u001B[39;00mdataset_path\u001B[38;5;132;01m}\u001B[39;00m\u001B[38;5;124m/\u001B[39m\u001B[38;5;132;01m{\u001B[39;00mdataset_type\u001B[38;5;132;01m}\u001B[39;00m\u001B[38;5;124m/\u001B[39m\u001B[38;5;132;01m{\u001B[39;00mparticipant\u001B[38;5;132;01m}\u001B[39;00m\u001B[38;5;124m/tsv/\u001B[39m\u001B[38;5;124m\"\u001B[39m\n\u001B[1;32m      8\u001B[0m bvhdir \u001B[38;5;241m=\u001B[39m \u001B[38;5;124mf\u001B[39m\u001B[38;5;124m\"\u001B[39m\u001B[38;5;132;01m{\u001B[39;00mdataset_path\u001B[38;5;132;01m}\u001B[39;00m\u001B[38;5;124m/\u001B[39m\u001B[38;5;132;01m{\u001B[39;00mdataset_type\u001B[38;5;132;01m}\u001B[39;00m\u001B[38;5;124m/\u001B[39m\u001B[38;5;132;01m{\u001B[39;00mparticipant\u001B[38;5;132;01m}\u001B[39;00m\u001B[38;5;124m/bvh/\u001B[39m\u001B[38;5;124m\"\u001B[39m\n\u001B[0;32m---> 10\u001B[0m num_speakers, metadict_byfname, metadict_byindex \u001B[38;5;241m=\u001B[39m \u001B[43mload_metadata\u001B[49m\u001B[43m(\u001B[49m\u001B[43mmetadata\u001B[49m\u001B[43m,\u001B[49m\u001B[43m \u001B[49m\u001B[38;5;124;43m\"\u001B[39;49m\u001B[38;5;124;43mmain-agent\u001B[39;49m\u001B[38;5;124;43m\"\u001B[39;49m\u001B[43m)\u001B[49m\n\u001B[1;32m     12\u001B[0m \u001B[38;5;28mprint\u001B[39m(\u001B[38;5;124m\"\u001B[39m\u001B[38;5;124mnum_speakers\u001B[39m\u001B[38;5;124m\"\u001B[39m, num_speakers)\n\u001B[1;32m     13\u001B[0m \u001B[38;5;66;03m# print(\"metadict_byfname\", metadict_byfname)\u001B[39;00m\n\u001B[1;32m     14\u001B[0m \u001B[38;5;66;03m# print(\"metadict_byindex\", metadict_byindex)\u001B[39;00m\n",
      "Cell \u001B[0;32mIn[5], line 8\u001B[0m, in \u001B[0;36mload_metadata\u001B[0;34m(metadata, participant)\u001B[0m\n\u001B[1;32m      6\u001B[0m speaker_ids \u001B[38;5;241m=\u001B[39m []\n\u001B[1;32m      7\u001B[0m finger_info \u001B[38;5;241m=\u001B[39m []\n\u001B[0;32m----> 8\u001B[0m \u001B[38;5;28;01mwith\u001B[39;00m \u001B[38;5;28;43mopen\u001B[39;49m\u001B[43m(\u001B[49m\u001B[43mmetadata\u001B[49m\u001B[43m,\u001B[49m\u001B[43m \u001B[49m\u001B[38;5;124;43m\"\u001B[39;49m\u001B[38;5;124;43mr\u001B[39;49m\u001B[38;5;124;43m\"\u001B[39;49m\u001B[43m)\u001B[49m \u001B[38;5;28;01mas\u001B[39;00m f:\n\u001B[1;32m      9\u001B[0m     \u001B[38;5;66;03m# NOTE: The first line contains the csv header so we skip it\u001B[39;00m\n\u001B[1;32m     10\u001B[0m     \u001B[38;5;28;01mfor\u001B[39;00m i, line \u001B[38;5;129;01min\u001B[39;00m \u001B[38;5;28menumerate\u001B[39m(f\u001B[38;5;241m.\u001B[39mreadlines()[\u001B[38;5;241m1\u001B[39m:]):\n\u001B[1;32m     11\u001B[0m         (\n\u001B[1;32m     12\u001B[0m             fname,\n\u001B[1;32m     13\u001B[0m             main_speaker_id,\n\u001B[0;32m   (...)\u001B[0m\n\u001B[1;32m     16\u001B[0m             ilocutor_has_finger,\n\u001B[1;32m     17\u001B[0m         ) \u001B[38;5;241m=\u001B[39m line\u001B[38;5;241m.\u001B[39mstrip()\u001B[38;5;241m.\u001B[39msplit(\u001B[38;5;124m\"\u001B[39m\u001B[38;5;124m,\u001B[39m\u001B[38;5;124m\"\u001B[39m)\n",
      "File \u001B[0;32m~/PycharmProjects/2023_ivi_baseline/venv/lib/python3.10/site-packages/IPython/core/interactiveshell.py:284\u001B[0m, in \u001B[0;36m_modified_open\u001B[0;34m(file, *args, **kwargs)\u001B[0m\n\u001B[1;32m    277\u001B[0m \u001B[38;5;28;01mif\u001B[39;00m file \u001B[38;5;129;01min\u001B[39;00m {\u001B[38;5;241m0\u001B[39m, \u001B[38;5;241m1\u001B[39m, \u001B[38;5;241m2\u001B[39m}:\n\u001B[1;32m    278\u001B[0m     \u001B[38;5;28;01mraise\u001B[39;00m \u001B[38;5;167;01mValueError\u001B[39;00m(\n\u001B[1;32m    279\u001B[0m         \u001B[38;5;124mf\u001B[39m\u001B[38;5;124m\"\u001B[39m\u001B[38;5;124mIPython won\u001B[39m\u001B[38;5;124m'\u001B[39m\u001B[38;5;124mt let you open fd=\u001B[39m\u001B[38;5;132;01m{\u001B[39;00mfile\u001B[38;5;132;01m}\u001B[39;00m\u001B[38;5;124m by default \u001B[39m\u001B[38;5;124m\"\u001B[39m\n\u001B[1;32m    280\u001B[0m         \u001B[38;5;124m\"\u001B[39m\u001B[38;5;124mas it is likely to crash IPython. If you know what you are doing, \u001B[39m\u001B[38;5;124m\"\u001B[39m\n\u001B[1;32m    281\u001B[0m         \u001B[38;5;124m\"\u001B[39m\u001B[38;5;124myou can use builtins\u001B[39m\u001B[38;5;124m'\u001B[39m\u001B[38;5;124m open.\u001B[39m\u001B[38;5;124m\"\u001B[39m\n\u001B[1;32m    282\u001B[0m     )\n\u001B[0;32m--> 284\u001B[0m \u001B[38;5;28;01mreturn\u001B[39;00m \u001B[43mio_open\u001B[49m\u001B[43m(\u001B[49m\u001B[43mfile\u001B[49m\u001B[43m,\u001B[49m\u001B[43m \u001B[49m\u001B[38;5;241;43m*\u001B[39;49m\u001B[43margs\u001B[49m\u001B[43m,\u001B[49m\u001B[43m \u001B[49m\u001B[38;5;241;43m*\u001B[39;49m\u001B[38;5;241;43m*\u001B[39;49m\u001B[43mkwargs\u001B[49m\u001B[43m)\u001B[49m\n",
      "\u001B[0;31mFileNotFoundError\u001B[0m: [Errno 2] No such file or directory: \"./input/genea2023_dataset//['trn', 'tst', 'val']/metadata.csv\""
     ]
    }
   ],
   "source": [
    "dataset_path = \"./input/genea2023_dataset/\"\n",
    "dataset_types = [\"trn\", \"tst\", \"val\"]\n",
    "participants = [\"main-agent\", \"interloctr\"]\n",
    "\n",
    "for dataset_type in dataset_types:\n",
    "    for participant in participants:\n",
    "\n",
    "    metadata = f\"{dataset_path}/{dataset_type}/metadata.csv\"\n",
    "    wavdir = f\"{dataset_path}/{dataset_type}/{participant}/wav/\"\n",
    "    tsvdir = f\"{dataset_path}/{dataset_type}/{participant}/tsv/\"\n",
    "    bvhdir = f\"{dataset_path}/{dataset_type}/{participant}/bvh/\"\n",
    "\n",
    "\n",
    "\n",
    "    num_speakers, metadict_byfname, metadict_byindex = load_metadata(metadata, \"main-agent\")\n",
    "\n",
    "    print(\"num_speakers\", num_speakers)\n",
    "    # print(\"metadict_byfname\", metadict_byfname)\n",
    "    # print(\"metadict_byindex\", metadict_byindex)\n",
    "    print(len(metadict_byfname))\n",
    "    print(len(metadict_byindex))"
   ],
   "metadata": {
    "collapsed": false,
    "ExecuteTime": {
     "end_time": "2023-06-08T14:29:58.272169488Z",
     "start_time": "2023-06-08T14:29:58.172283553Z"
    }
   }
  },
  {
   "cell_type": "code",
   "execution_count": null,
   "outputs": [],
   "source": [],
   "metadata": {
    "collapsed": false
   }
  }
 ],
 "metadata": {
  "kernelspec": {
   "display_name": "Python 3",
   "language": "python",
   "name": "python3"
  },
  "language_info": {
   "codemirror_mode": {
    "name": "ipython",
    "version": 2
   },
   "file_extension": ".py",
   "mimetype": "text/x-python",
   "name": "python",
   "nbconvert_exporter": "python",
   "pygments_lexer": "ipython2",
   "version": "2.7.6"
  }
 },
 "nbformat": 4,
 "nbformat_minor": 0
}
